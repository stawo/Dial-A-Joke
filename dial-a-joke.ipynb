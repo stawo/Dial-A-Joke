{
 "nbformat": 4,
 "nbformat_minor": 2,
 "metadata": {
  "language_info": {
   "name": "python",
   "codemirror_mode": {
    "name": "ipython",
    "version": 3
   },
   "version": "3.8.6-final"
  },
  "orig_nbformat": 2,
  "file_extension": ".py",
  "mimetype": "text/x-python",
  "name": "python",
  "npconvert_exporter": "python",
  "pygments_lexer": "ipython3",
  "version": 3,
  "kernelspec": {
   "name": "python38664bitdialajokeconda43f88244c2d54472b3364c4a28f0e6c9",
   "display_name": "Python 3.8.6 64-bit ('Dial-A-Joke': conda)"
  }
 },
 "cells": [
  {
   "cell_type": "code",
   "execution_count": 83,
   "metadata": {},
   "outputs": [],
   "source": [
    "import requests\n",
    "import json\n",
    "import pyttsx3\n",
    "import random"
   ]
  },
  {
   "cell_type": "code",
   "execution_count": 8,
   "metadata": {},
   "outputs": [],
   "source": [
    "# Initialize the TTS\n",
    "engine = pyttsx3.init()"
   ]
  },
  {
   "cell_type": "code",
   "execution_count": 9,
   "metadata": {},
   "outputs": [
    {
     "name": "stdout",
     "output_type": "stream",
     "text": "1.0\n"
    }
   ],
   "source": [
    "\"\"\"VOLUME\"\"\"\n",
    "volume = engine.getProperty('volume')   #getting to know current volume level (min=0 and max=1)\n",
    "print (volume)                          #printing current volume level\n",
    "engine.setProperty('volume',1.0)    # setting up volume level  between 0 and 1"
   ]
  },
  {
   "cell_type": "code",
   "execution_count": 10,
   "metadata": {},
   "outputs": [
    {
     "name": "stdout",
     "output_type": "stream",
     "text": "200\n"
    }
   ],
   "source": [
    "\"\"\" RATE\"\"\"\n",
    "rate = engine.getProperty('rate')   # getting details of current speaking rate\n",
    "print (rate)                        #printing current voice rate\n",
    "engine.setProperty('rate', 150)     # setting up new voice rate"
   ]
  },
  {
   "cell_type": "code",
   "execution_count": 11,
   "metadata": {},
   "outputs": [],
   "source": [
    "def get_joke_chuck_norris():\n",
    "    url = \"https://api.chucknorris.io/jokes/random\"\n",
    "\n",
    "    headers = {\n",
    "        # 'x-rapidapi-host': \"matchilling-chuck-norris-jokes-v1.p.rapidapi.com\",\n",
    "        # 'x-rapidapi-key': \"SIGN-UP-FOR-KEY\",\n",
    "        'accept': \"application/json\"\n",
    "        }\n",
    "    \n",
    "    response = requests.request(\"GET\", url, headers=headers)\n",
    "\n",
    "    response_json = json.loads(response.text)\n",
    "    print(response_json['value'])\n",
    "\n",
    "    return response_json['value']"
   ]
  },
  {
   "cell_type": "code",
   "execution_count": 12,
   "metadata": {},
   "outputs": [],
   "source": [
    "def get_joke():\n",
    "    url = \"https://rapidapi.p.rapidapi.com/joke/Any\"\n",
    "\n",
    "    querystring = {\n",
    "        \"format\":\"json\"\n",
    "        ,\"blacklistFlags\":\"racist\"\n",
    "        # ,\"idRange\":\"0-150\"\n",
    "        ,\"type\":\"single,twopart\"\n",
    "        }\n",
    "\n",
    "    headers = {\n",
    "        'x-rapidapi-key': \"c976d7c64dmsh01f53bdc3af8d24p1b39eajsnee78712c6e8e\",\n",
    "        'x-rapidapi-host': \"jokeapi-v2.p.rapidapi.com\"\n",
    "        }\n",
    "    \n",
    "    response = requests.request(\"GET\", url, headers=headers, params=querystring)\n",
    "    print(response.text)\n",
    "    response_json = json.loads(response.text)\n",
    "    \n",
    "    if response_json['type'] == 'single':\n",
    "        joke = response_json['joke']\n",
    "    elif response_json['type'] == 'twopart':\n",
    "        joke = response_json['setup'] + '\\n' + response_json['delivery']\n",
    "    \n",
    "    return joke"
   ]
  },
  {
   "cell_type": "code",
   "execution_count": 13,
   "metadata": {},
   "outputs": [],
   "source": [
    "def read_joke(joke):\n",
    "    engine.say(joke)\n",
    "    engine.runAndWait()"
   ]
  },
  {
   "cell_type": "code",
   "execution_count": 14,
   "metadata": {},
   "outputs": [
    {
     "name": "stdout",
     "output_type": "stream",
     "text": "{\n    \"error\": false,\n    \"category\": \"Dark\",\n    \"type\": \"twopart\",\n    \"setup\": \"What did the cannibal do after he dumped his girlfriend?\",\n    \"delivery\": \"He wiped his ass.\",\n    \"flags\": {\n        \"nsfw\": true,\n        \"religious\": false,\n        \"political\": false,\n        \"racist\": false,\n        \"sexist\": false\n    },\n    \"id\": 160,\n    \"lang\": \"en\"\n}\n"
    }
   ],
   "source": [
    "read_joke(get_joke())"
   ]
  },
  {
   "cell_type": "code",
   "execution_count": 4,
   "metadata": {},
   "outputs": [],
   "source": [
    "with open('jokes/reddit_jokes.json') as json_file:\n",
    "    reddit_jokes = json.load(json_file)\n",
    "\n",
    "reddit_jokes[0]"
   ]
  },
  {
   "cell_type": "code",
   "execution_count": 15,
   "metadata": {},
   "outputs": [],
   "source": [
    "reddit_jokes_filtered = []\n",
    "for joke in reddit_jokes:\n",
    "    if joke['score'] > 2:\n",
    "        reddit_jokes_filtered.append(joke)"
   ]
  },
  {
   "cell_type": "code",
   "execution_count": 65,
   "metadata": {},
   "outputs": [],
   "source": [
    "def get_reddit_joke(min_score=3, max_lenght=4000):\n",
    "    '''\n",
    "    Retrieve a random joke from the reddit jokes list.\n",
    "\n",
    "    Retrieve a random joke from the reddit jokes list.\n",
    "    We can filter jokes based on their score and lenght.\n",
    "    '''\n",
    "    \n",
    "    reddit_jokes_filtered = list(filter(lambda d: (d['score'] >= min_score) and (len(d['title'])+len(d['body']) <= max_lenght) , reddit_jokes))\n",
    "\n",
    "    reddit_joke = random.choice(reddit_jokes_filtered)\n",
    "    reddit_joke_str = reddit_joke['title'] + '\\n        .        \\n' + reddit_joke['body']\n",
    "    print(reddit_joke)\n",
    "    print(len(reddit_jokes_filtered))\n",
    "\n",
    "    return reddit_joke_str"
   ]
  },
  {
   "cell_type": "code",
   "execution_count": 82,
   "metadata": {},
   "outputs": [
    {
     "name": "stdout",
     "output_type": "stream",
     "text": "{'body': '21.', 'id': '3gi5m7', 'score': 553, 'title': '19 and 20 had a fight.'}\n124\n"
    }
   ],
   "source": [
    "read_joke(get_reddit_joke(min_score=300, max_lenght=40))"
   ]
  },
  {
   "cell_type": "code",
   "execution_count": null,
   "metadata": {},
   "outputs": [],
   "source": []
  }
 ]
}